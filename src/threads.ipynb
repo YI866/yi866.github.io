{
 "cells": [
  {
   "cell_type": "code",
   "execution_count": null,
   "metadata": {
    "collapsed": false,
    "pycharm": {
     "name": "#%%\n"
    }
   },
   "outputs": [],
   "source": [
    "import time\n",
    "from threading import Thread, current_thread, Lock\n",
    "\n",
    "\n",
    "# def run_context(scop):\n",
    "def run_context():\n",
    "    time.sleep(2)\n",
    "    scope.change()\n",
    "    print(current_thread(), scope.flag)\n",
    "\n",
    "class Scope:\n",
    "    def __init__(self):\n",
    "        self.flag = None\n",
    "        self.lock = Lock()\n",
    "\n",
    "    def change(self):\n",
    "        self.lock.acquire()\n",
    "        if self.flag:\n",
    "            self.flag = False\n",
    "        else:\n",
    "            self.flag = True\n",
    "        self.lock.release()\n",
    "\n",
    "    def run(self):\n",
    "        self.flag = True\n",
    "        ls = []\n",
    "        for i in range(10):\n",
    "            # th = Thread(target=run_context, args=(self,), daemon=False)\n",
    "            th = Thread(target=run_context, daemon=False)\n",
    "            ls.append(th)\n",
    "            th.start()\n",
    "        for t in ls:\n",
    "            t.join()\n",
    "\n",
    "scope = Scope()\n",
    "scope.run()"
   ]
  }
 ],
 "metadata": {
  "kernelspec": {
   "display_name": "Python 3",
   "language": "python",
   "name": "python3"
  },
  "language_info": {
   "codemirror_mode": {
    "name": "ipython",
    "version": 2
   },
   "file_extension": ".py",
   "mimetype": "text/x-python",
   "name": "python",
   "nbconvert_exporter": "python",
   "pygments_lexer": "ipython2",
   "version": "2.7.6"
  }
 },
 "nbformat": 4,
 "nbformat_minor": 0
}

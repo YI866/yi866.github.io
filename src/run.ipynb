{
 "cells": [
  {
   "cell_type": "code",
   "execution_count": 1,
   "metadata": {},
   "outputs": [
    {
     "name": "stdout",
     "output_type": "stream",
     "text": [
      "<MagicMock name='add()' id='140300612735760'>\n"
     ]
    },
    {
     "data": {
      "text/plain": [
       "False"
      ]
     },
     "execution_count": 1,
     "metadata": {},
     "output_type": "execute_result"
    }
   ],
   "source": [
    "from unittest import mock\n",
    "\n",
    "def add(a, b):\n",
    "    print('call `add` method.')\n",
    "    return a+b\n",
    "\n",
    "mock1 = mock.patch('__main__.add')\n",
    "mock1.return_value = 6\n",
    "mo1 = mock1.start()\n",
    "print(mo1(4,4))\n",
    "mock1.stop()\n"
   ]
  },
  {
   "cell_type": "code",
   "execution_count": 2,
   "metadata": {},
   "outputs": [
    {
     "name": "stdout",
     "output_type": "stream",
     "text": [
      "[1, 2, 3, 4, 5]\n"
     ]
    }
   ],
   "source": [
    "from sqlalchemy import create_engine, Table\n",
    "\n"
   ]
  }
 ],
 "metadata": {
  "kernelspec": {
   "display_name": "run",
   "language": "python",
   "name": "python3"
  },
  "language_info": {
   "codemirror_mode": {
    "name": "ipython",
    "version": 3
   },
   "file_extension": ".py",
   "mimetype": "text/x-python",
   "name": "python",
   "nbconvert_exporter": "python",
   "pygments_lexer": "ipython3",
   "version": "3.9.16"
  },
  "orig_nbformat": 4,
  "vscode": {
   "interpreter": {
    "hash": "e04a78b900a91b069e6869b2c668b83da42abc81aaee9d733a40a4d09d3064de"
   }
  }
 },
 "nbformat": 4,
 "nbformat_minor": 2
}

{
 "cells": [
  {
   "attachments": {},
   "cell_type": "markdown",
   "metadata": {},
   "source": [
    "# 使用Cython加密\n",
    "\n",
    "```python\n",
    "# -*- coding: utf-8 -*-\n",
    "from Cython.Build import cythonize\n",
    "from Cython.Distutils import build_ext\n",
    "from setuptools import setup, Extension\n",
    "\n",
    "# pattern is avilable: * or **.\n",
    "extensions = [\n",
    "    Extension('src.services.*', ['src/services/*.py']),\n",
    "    Extension('src.views.*', ['src/views/*.py'])\n",
    "]\n",
    "\n",
    "setup(\n",
    "    name=\"aps_ama_project\",\n",
    "    build_dir='build',\n",
    "    # language_level represents the python version, and python3 writes 3.\n",
    "    ext_modules=cythonize(\n",
    "        extensions,\n",
    "        compiler_directives={'language_level': 3, 'always_allow_keywords': True},\n",
    "        # excluded specified files.\n",
    "        exclude=['**/__init__.py']\n",
    "    ),\n",
    "    script_args=[\"build_ext\", \"--inplace\"],\n",
    "    cmdclass=dict(build_ext=build_ext)\n",
    ")\n",
    "```\n",
    "\n",
    "文件批量重命名：`find . -name '*.so'|awk -F \".cpython-38-x86_64-linux-gnu.\" '{print $0,$1\".\"$2}'|xargs -n2 mv`\n"
   ]
  },
  {
   "attachments": {},
   "cell_type": "markdown",
   "metadata": {},
   "source": [
    "## Linux下创建Daemon进程方式"
   ]
  },
  {
   "cell_type": "code",
   "execution_count": null,
   "metadata": {},
   "outputs": [],
   "source": [
    "\"\"\"利用tornado在windows上部署高并发应用\"\"\"\n",
    "\n",
    "import os\n",
    "import sys\n",
    "import atexit\n",
    "from multiprocessing import Process\n",
    "from tornado.wsgi import WSGIContainer\n",
    "from tornado.httpserver import HTTPServer\n",
    "from tornado.ioloop import IOLoop\n",
    "from run import app\n",
    "\n",
    "\n",
    "def _run_server():\n",
    "    http_server = HTTPServer(WSGIContainer(app))\n",
    "    http_server.listen(5000)\n",
    "    IOLoop.instance().start()\n",
    "\n",
    "def run(pid_file=None):\n",
    "    Process(target=_run_server, daemon=True).start()\n",
    "    pid = os.fork()\n",
    "    if pid:\n",
    "        sys.exit(0)\n",
    "    # os.chdir()\n",
    "    # os.umask(0)\n",
    "    os.set_sid()\n",
    "    _pid = os.fork()\n",
    "    if _pid:\n",
    "        sys.exit(0)\n",
    "    \n",
    "    sys.stderr.flush()\n",
    "    sys.stdout.flush()\n",
    "\n",
    "    # 写入pid文件\n",
    "    if pid_file:\n",
    "        with open(pid_file, 'w+') as f:\n",
    "            f.write(str(os.getpid()))\n",
    "        # 注册退出函数，进程异常退出时移除pid文件\n",
    "        atexit.register(os.remove, pid_file)\n",
    "\n",
    "if __name__ == \"__main__\":\n",
    "    run()"
   ]
  },
  {
   "attachments": {},
   "cell_type": "markdown",
   "metadata": {},
   "source": [
    "## gevent启动Flask App\n",
    "\n",
    "```python\n",
    "from gevent import monkey\n",
    "from gevent.pywsgi import WSGIServer\n",
    "from geventwebsocket.handler import WebSocketHandler\n",
    "\n",
    "monkey.patch_all()\n",
    "\n",
    "app = Flask(__name__)\n",
    "\n",
    "if __name == \"__main__\":\n",
    "    server = WSGIServer(('', 5000), app, handler_class=WebSocketHandler)\n",
    "    server.serve_forever()\n",
    "```\n",
    "\n",
    "## 后台daemon部署\n",
    "\n",
    "```python\n",
    "import subprocess\n",
    "from src.settings import PID_FILE\n",
    "\n",
    "DETACHED_PROCESS = 8\n",
    "\n",
    "if __name__ == \"__main__\":\n",
    "    p = subprocess.Popen(\"python deploy.py\",\n",
    "            creationflags=DETACHED_PROCESS,\n",
    "            close_fds=True\n",
    "        )\n",
    "    with open(PID_FILE, 'w') as f:\n",
    "        f.write(str(p.pid))\n",
    "    print(f\"Server Running: PID {p.pid} Bind http://0.0.0.0:5000\")\n",
    "```"
   ]
  },
  {
   "attachments": {},
   "cell_type": "markdown",
   "metadata": {},
   "source": [
    "# GIT\n",
    "\n",
    "- git log --graph stash@{0}可以看出untracked files的提交位置；\n",
    "- git show stash@{0}^3:file_dir |git apply: 可以将特定的文件apply；"
   ]
  },
  {
   "attachments": {},
   "cell_type": "markdown",
   "metadata": {},
   "source": [
    "# Sqlalchemy表反射\n",
    "\n",
    "```\n",
    "# reflect原表\n",
    "meta_obj = MetaData().reflect(engine)\n",
    "table = meta_obj.tables[table_name]\n",
    "# 构造新表\n",
    "temp_table = Table(table.name, MetaData())\n",
    "for column in table.columns:\n",
    "    if column.name in available_columns:\n",
    "        temp_table.append_column(column.copy())\n",
    "compiled_sql = temp_table.insert().compile(target_engine)\n",
    "```"
   ]
  },
  {
   "cell_type": "code",
   "execution_count": 2,
   "metadata": {},
   "outputs": [],
   "source": [
    "# mysql中变量： secure_file_priv 配置后可能会引起一些问题\n"
   ]
  }
 ],
 "metadata": {
  "kernelspec": {
   "display_name": "Python 3",
   "language": "python",
   "name": "python3"
  },
  "language_info": {
   "codemirror_mode": {
    "name": "ipython",
    "version": 3
   },
   "file_extension": ".py",
   "mimetype": "text/x-python",
   "name": "python",
   "nbconvert_exporter": "python",
   "pygments_lexer": "ipython3",
   "version": "3.9.16"
  },
  "orig_nbformat": 4,
  "vscode": {
   "interpreter": {
    "hash": "916dbcbb3f70747c44a77c7bcd40155683ae19c65e1c03b4aa3499c5328201f1"
   }
  }
 },
 "nbformat": 4,
 "nbformat_minor": 2
}

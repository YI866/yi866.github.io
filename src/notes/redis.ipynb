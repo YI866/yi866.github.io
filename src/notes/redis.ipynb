{
 "cells": [
  {
   "cell_type": "code",
   "execution_count": null,
   "metadata": {
    "collapsed": false,
    "pycharm": {
     "name": "#%%\n"
    }
   },
   "outputs": [],
   "source": [
    "import redis\n",
    "\n",
    "pool1 = redis.ConnectionPool.from_url('redis://localhost:6479/0')\n",
    "redisconn1 = redis.Redis(connection_pool=pool1)\n",
    "# pool2 = redis.ConnectionPool.from_url('redis://localhost:6579/1')\n",
    "# redisconn2 = redis.Redis(connection_pool=pool2)\n",
    "for num, key in enumerate(redisconn1.keys('t_*')):\n",
    "    key_ = key.decode()\n",
    "    val = redisconn1.get(key_)\n",
    "    print(key_, type(val))\n",
    "    # redisconn2.set(key_, val)\n",
    "    # if num > 30:\n",
    "    #     break\n",
    "redisconn1.close()\n",
    "# redisconn2.close()"
   ]
  }
 ],
 "metadata": {
  "kernelspec": {
   "display_name": "Python 3",
   "language": "python",
   "name": "python3"
  },
  "language_info": {
   "codemirror_mode": {
    "name": "ipython",
    "version": 2
   },
   "file_extension": ".py",
   "mimetype": "text/x-python",
   "name": "python",
   "nbconvert_exporter": "python",
   "pygments_lexer": "ipython2",
   "version": "3.9.2 (default, Feb 28 2021, 17:03:44) \n[GCC 10.2.1 20210110]"
  },
  "vscode": {
   "interpreter": {
    "hash": "916dbcbb3f70747c44a77c7bcd40155683ae19c65e1c03b4aa3499c5328201f1"
   }
  }
 },
 "nbformat": 4,
 "nbformat_minor": 0
}

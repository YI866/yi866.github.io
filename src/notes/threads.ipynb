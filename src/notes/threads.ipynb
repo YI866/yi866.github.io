{
 "cells": [
  {
   "cell_type": "code",
   "execution_count": null,
   "metadata": {
    "collapsed": false,
    "pycharm": {
     "name": "#%%\n"
    }
   },
   "outputs": [],
   "source": [
    "import time\n",
    "from threading import Thread, current_thread, Lock\n",
    "\n",
    "\n",
    "# def run_context(scop):\n",
    "def run_context():\n",
    "    time.sleep(2)\n",
    "    scope.change()\n",
    "    print(current_thread(), scope.flag)\n",
    "\n",
    "class Scope:\n",
    "    def __init__(self):\n",
    "        self.flag = None\n",
    "        self.lock = Lock()\n",
    "\n",
    "    def change(self):\n",
    "        self.lock.acquire()\n",
    "        if self.flag:\n",
    "            self.flag = False\n",
    "        else:\n",
    "            self.flag = True\n",
    "        self.lock.release()\n",
    "\n",
    "    def run(self):\n",
    "        self.flag = True\n",
    "        ls = []\n",
    "        for i in range(10):\n",
    "            # th = Thread(target=run_context, args=(self,), daemon=False)\n",
    "            th = Thread(target=run_context, daemon=False)\n",
    "            ls.append(th)\n",
    "            th.start()\n",
    "        for t in ls:\n",
    "            t.join()\n",
    "\n",
    "scope = Scope()\n",
    "scope.run()"
   ]
  }
 ],
 "metadata": {
  "kernelspec": {
   "display_name": "run",
   "language": "python",
   "name": "python3"
  },
  "language_info": {
   "codemirror_mode": {
    "name": "ipython",
    "version": 2
   },
   "file_extension": ".py",
   "mimetype": "text/x-python",
   "name": "python",
   "nbconvert_exporter": "python",
   "pygments_lexer": "ipython2",
   "version": "3.9.16 (main, Jan 11 2023, 16:05:54) \n[GCC 11.2.0]"
  },
  "vscode": {
   "interpreter": {
    "hash": "e04a78b900a91b069e6869b2c668b83da42abc81aaee9d733a40a4d09d3064de"
   }
  }
 },
 "nbformat": 4,
 "nbformat_minor": 0
}

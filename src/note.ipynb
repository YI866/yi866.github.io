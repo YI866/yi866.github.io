{
 "cells": [
  {
   "attachments": {},
   "cell_type": "markdown",
   "metadata": {},
   "source": [
    "# 使用Cython加密\n",
    "\n",
    "```python\n",
    "# -*- coding: utf-8 -*-\n",
    "from Cython.Build import cythonize\n",
    "from Cython.Distutils import build_ext\n",
    "from setuptools import setup, Extension\n",
    "\n",
    "# pattern is avilable: * or **.\n",
    "extensions = [\n",
    "    Extension('src.services.*', ['src/services/*.py']),\n",
    "    Extension('src.views.*', ['src/views/*.py'])\n",
    "]\n",
    "\n",
    "setup(\n",
    "    name=\"aps_ama_project\",\n",
    "    build_dir='build',\n",
    "    # language_level represents the python version, and python3 writes 3.\n",
    "    ext_modules=cythonize(\n",
    "        extensions,\n",
    "        compiler_directives={'language_level': 3, 'always_allow_keywords': True},\n",
    "        # excluded specified files.\n",
    "        exclude=['**/__init__.py']\n",
    "    ),\n",
    "    script_args=[\"build_ext\", \"--inplace\"],\n",
    "    cmdclass=dict(build_ext=build_ext)\n",
    ")\n",
    "```"
   ]
  }
 ],
 "metadata": {
  "kernelspec": {
   "display_name": "Python 3",
   "language": "python",
   "name": "python3"
  },
  "language_info": {
   "name": "python",
   "version": "3.9.2 (default, Feb 28 2021, 17:03:44) \n[GCC 10.2.1 20210110]"
  },
  "orig_nbformat": 4,
  "vscode": {
   "interpreter": {
    "hash": "916dbcbb3f70747c44a77c7bcd40155683ae19c65e1c03b4aa3499c5328201f1"
   }
  }
 },
 "nbformat": 4,
 "nbformat_minor": 2
}
